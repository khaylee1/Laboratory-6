{
  "nbformat": 4,
  "nbformat_minor": 0,
  "metadata": {
    "colab": {
      "name": "lab6.ipynb",
      "provenance": [],
      "collapsed_sections": [],
      "authorship_tag": "ABX9TyPkSek3LDld5t/XPfB1vhME",
      "include_colab_link": true
    },
    "kernelspec": {
      "name": "python3",
      "display_name": "Python 3"
    }
  },
  "cells": [
    {
      "cell_type": "markdown",
      "metadata": {
        "id": "view-in-github",
        "colab_type": "text"
      },
      "source": [
        "<a href=\"https://colab.research.google.com/github/khaylee1/Laboratory-6/blob/main/lab6.ipynb\" target=\"_parent\"><img src=\"https://colab.research.google.com/assets/colab-badge.svg\" alt=\"Open In Colab\"/></a>"
      ]
    },
    {
      "cell_type": "code",
      "metadata": {
        "id": "mClF15_o30g6"
      },
      "source": [
        "import numpy as np\n",
        "import matplotlib.pyplot as plt\n",
        "import scipy.linalg as la\n",
        "%matplotlib inline"
      ],
      "execution_count": 5,
      "outputs": []
    },
    {
      "cell_type": "markdown",
      "metadata": {
        "id": "-AGTW7FFHFVh"
      },
      "source": [
        "##<b>Task 1</b>\n",
        "\n",
        "Create a function named mat_desc() that througouhly describes a matrix, it should:\n",
        "\n",
        "1.) Displays the shape, size, and rank of the matrix.<br>\n",
        "2.)Displays whether the matrix is square or non-square.<br>\n",
        "3.)Displays whether the matrix is an empty matrix.<br>\n",
        "4.Displays if the matrix is an identity, ones, or zeros matrix\n",
        "##<b>Function:"
      ]
    },
    {
      "cell_type": "code",
      "metadata": {
        "id": "OerGmHYO376v"
      },
      "source": [
        "def mat_desc(matrix):\n",
        "    if matrix.size >0:\n",
        "        is_square = True if matrix.shape[0] == matrix.shape[1] else False \n",
        "        print(f'Matrix:\\n{matrix}\\n\\nShape:\\t{matrix.shape}\\nSize: \\t{matrix.size}\\nRank: \\t{np.linalg.matrix_rank(matrix)}\\nMatrix Is Square: {is_square}\\nMatrix Is Not Null\\nIdentity matrix:\\t\\n{np.eye(3)}')\n",
        "       \n",
        "    else:\n",
        "        print('Matrix is Null')"
      ],
      "execution_count": 3,
      "outputs": []
    },
    {
      "cell_type": "markdown",
      "metadata": {
        "id": "nLSx619rHh8Y"
      },
      "source": [
        "##<b>Declaration of Vector:\n",
        "\n",
        "$$X=\\begin{bmatrix}8,7,6\\\\6,1,2\\\\0,4,1\\end{bmatrix}$$"
      ]
    },
    {
      "cell_type": "code",
      "metadata": {
        "id": "TnZuuDN14wQC"
      },
      "source": [
        "X=np.array([\n",
        "            [8,7,6],\n",
        "            [6,1,2],\n",
        "            [0,4,1]\n",
        "            ])"
      ],
      "execution_count": 7,
      "outputs": []
    },
    {
      "cell_type": "markdown",
      "metadata": {
        "id": "JGbW_p7GIJ_v"
      },
      "source": [
        "##<B>Test Area/ Output:"
      ]
    },
    {
      "cell_type": "code",
      "metadata": {
        "id": "50g9veM39JBv",
        "outputId": "08edc927-f754-4dc0-9763-b740f387d65f",
        "colab": {
          "base_uri": "https://localhost:8080/"
        }
      },
      "source": [
        "mat_desc(X)\n"
      ],
      "execution_count": 8,
      "outputs": [
        {
          "output_type": "stream",
          "text": [
            "Matrix:\n",
            "[[8 7 6]\n",
            " [6 1 2]\n",
            " [0 4 1]]\n",
            "\n",
            "Shape:\t(3, 3)\n",
            "Size: \t9\n",
            "Rank: \t3\n",
            "Matrix Is Square: True\n",
            "Matrix Is Not Null\n",
            "Identity matrix:\t\n",
            "[[1. 0. 0.]\n",
            " [0. 1. 0.]\n",
            " [0. 0. 1.]]\n"
          ],
          "name": "stdout"
        }
      ]
    },
    {
      "cell_type": "markdown",
      "metadata": {
        "id": "snkOkHw8mSja"
      },
      "source": [
        "## <b> Task 2 </b>\n",
        "\n",
        "Create a function named mat_operations() that takes in two matrices or scalars a input parameters it should:<br>\n",
        "1.)Display the description of each matrix, if the parameter is a scalar it<br> \n",
        "2.)tells that it is a scalar rather than describing it as a matrix.<br>\n",
        "3.)Determines if the matrices are viable for operation and returns your own error message if they are not viable.<br>\n",
        "4.)Returns the sum of the matrices.<br>\n",
        "5.)Returns the differen of the matrices.<br>\n",
        "6.)Returns the element-wise multiplication of the matrices.<br>\n",
        "7.)Returns the element-wise division of the matrices.\n",
        "##<b>Function:\n"
      ]
    },
    {
      "cell_type": "code",
      "metadata": {
        "id": "7J46bWulmCVL"
      },
      "source": [
        "def mat_operations(matrix,matrix1):\n",
        "  if matrix.size and matrix1.size >0:\n",
        "    print(f'Matrix 1:\\n{matrix}\\n\\nMatrix 2:\\n{matrix1}\\n\\nShape of matrix 1:\\t{matrix.shape}\\nShape of matrix 2:\\t{matrix1.shape}\\nSize of matrix 1:\\t{matrix.size}\\nSize of matrix 2:\\t{matrix1.size}\\nRank of matrix 1:\\t{np.linalg.matrix_rank(matrix)}\\nRank of matrix 2:\\t{np.linalg.matrix_rank(matrix1)}\\n\\n   Matrix Algebra\\n\\nSum of the matrix 1 and 2:\\t\\n{matrix+matrix1}\\n\\nDifference of the matrix 1 and 2:\\t\\n{matrix-matrix1}\\n\\nElement-wise Multiplication of the matrices:\\t\\n{matrix*matrix1}\\n\\nElement-wise Division of the matrices:\\t\\n{matrix/matrix1} ')\n",
        "  elif matrix.size >0 and matrix1.size ==0:\n",
        "    print(f'Matrix 1:\\n{matrix}\\n\\nShape:\\t{matrix.shape}\\nSize: \\t{matrix.size}\\nRank: \\t{np.linalg.matrix_rank(matrix)}\\n\\n Matrix 2 is null\\n\\n can not perform operations')\n",
        "  elif matrix.size ==0 and matrix1.size >0 :\n",
        "    print(f'Matrix 1 is null \\n\\ncan not perform operation \\n\\nMatrix 2:\\n{matrix1}\\n\\nShape:\\t{matrix1.shape}\\nSize: \\t{matrix1.size}\\nRank: \\t{np.linalg.matrix_rank(matrix1)}\\n')\n",
        "  else:\n",
        "    print('Both Matrix is Null')"
      ],
      "execution_count": null,
      "outputs": []
    },
    {
      "cell_type": "markdown",
      "metadata": {
        "id": "LJeybI5z2ZPU"
      },
      "source": [
        "##<b> Decalration of Vector:\n",
        "\n",
        "$$ K=\\begin{bmatrix}1,3,1\\\\2,3,2\\\\1,1,2\\\\\\end{bmatrix}\\;\\;\\;J=\\begin{bmatrix}2,2,1\\\\3,1,1\\\\2,1,2\\\\\\end{bmatrix}$$\n",
        "\n"
      ]
    },
    {
      "cell_type": "code",
      "metadata": {
        "id": "0wIo65l_2grv"
      },
      "source": [
        "K=np.array([\n",
        "            [1,3,1],\n",
        "            [2,3,2],\n",
        "            [3,3,2]\n",
        "])\n",
        "J=np.array([\n",
        "            [2,2,1],\n",
        "            [3,1,1],\n",
        "            [2,3,2]\n",
        "])"
      ],
      "execution_count": null,
      "outputs": []
    },
    {
      "cell_type": "markdown",
      "metadata": {
        "id": "lScxhEqj2hbp"
      },
      "source": [
        "##<b>Test Area/Otput:"
      ]
    },
    {
      "cell_type": "code",
      "metadata": {
        "id": "7-YKOLs02vVE",
        "outputId": "45e326e8-28f1-479d-8eb2-c2976cfca3b6",
        "colab": {
          "base_uri": "https://localhost:8080/"
        }
      },
      "source": [
        "mat_operations(K,J)"
      ],
      "execution_count": null,
      "outputs": [
        {
          "output_type": "stream",
          "text": [
            "Matrix 1:\n",
            "[[1 3 1]\n",
            " [2 3 2]\n",
            " [3 3 2]]\n",
            "\n",
            "Matrix 2:\n",
            "[[2 2 1]\n",
            " [3 1 1]\n",
            " [2 3 2]]\n",
            "\n",
            "Shape of matrix 1:\t(3, 3)\n",
            "Shape of matrix 2:\t(3, 3)\n",
            "Size of matrix 1:\t9\n",
            "Size of matrix 2:\t9\n",
            "Rank of matrix 1:\t3\n",
            "Rank of matrix 2:\t3\n",
            "\n",
            "   Matrix Algebra\n",
            "\n",
            "Sum of the matrix 1 and 2:\t\n",
            "[[3 5 2]\n",
            " [5 4 3]\n",
            " [5 6 4]]\n",
            "\n",
            "Difference of the matrix 1 and 2:\t\n",
            "[[-1  1  0]\n",
            " [-1  2  1]\n",
            " [ 1  0  0]]\n",
            "\n",
            "Element-wise Multiplication of the matrices:\t\n",
            "[[2 6 1]\n",
            " [6 3 2]\n",
            " [6 9 4]]\n",
            "\n",
            "Element-wise Division of the matrices:\t\n",
            "[[0.5        1.5        1.        ]\n",
            " [0.66666667 3.         2.        ]\n",
            " [1.5        1.         1.        ]] \n"
          ],
          "name": "stdout"
        }
      ]
    }
  ]
}